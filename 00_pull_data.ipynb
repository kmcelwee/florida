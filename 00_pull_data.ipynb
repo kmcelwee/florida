{
 "cells": [
  {
   "cell_type": "code",
   "execution_count": 4,
   "metadata": {},
   "outputs": [],
   "source": [
    "import praw\n",
    "import os\n",
    "import json\n",
    "import time"
   ]
  },
  {
   "cell_type": "code",
   "execution_count": 5,
   "metadata": {},
   "outputs": [],
   "source": [
    "CLIENT_SECRET = 'INSERT YOUR OWN'\n",
    "CLIENT_ID = 'INSERT YOUR OWN'\n",
    "USER_AGENT = 'INSERT YOUR OWN'\n",
    "\n",
    "reddit = praw.Reddit(client_id=CLIENT_ID, client_secret=CLIENT_SECRET, user_agent=USER_AGENT)"
   ]
  },
  {
   "cell_type": "code",
   "execution_count": 3,
   "metadata": {},
   "outputs": [],
   "source": [
    "if not os.path.exists('data'):\n",
    "    os.mkdir('data')\n",
    "\n",
    "latest_id = None"
   ]
  },
  {
   "cell_type": "markdown",
   "metadata": {},
   "source": [
    "### First get top 1000"
   ]
  },
  {
   "cell_type": "code",
   "execution_count": 6,
   "metadata": {},
   "outputs": [],
   "source": [
    "j = []\n",
    "for page in range(10):\n",
    "    for sub in reddit.subreddit('FloridaMan').top(params={'after': latest_id, 't': 'all'}):\n",
    "        j.append({\n",
    "            'url': sub.url,\n",
    "            'title': sub.title,\n",
    "            'time': sub.created,\n",
    "            'score': sub.score,\n",
    "            'permalink': sub.permalink,\n",
    "            'over_18': sub.over_18,\n",
    "            'id': sub.id,\n",
    "            'domain': sub.domain,\n",
    "            'selftext': sub.selftext\n",
    "        })\n",
    "    latest_id = 't3_' + sub.id\n",
    "\n",
    "assert len(j) == len(set([x['id'] for x in j])), f\"main {len(j)}, unique {len(set([x['id'] for x in j]))}\"\n",
    "\n",
    "with open(f'data/top_data.json', 'w') as f:\n",
    "    json.dump(j, f, indent=4)"
   ]
  }
 ],
 "metadata": {
  "kernelspec": {
   "display_name": "Python 3",
   "language": "python",
   "name": "python3"
  },
  "language_info": {
   "codemirror_mode": {
    "name": "ipython",
    "version": 3
   },
   "file_extension": ".py",
   "mimetype": "text/x-python",
   "name": "python",
   "nbconvert_exporter": "python",
   "pygments_lexer": "ipython3",
   "version": "3.7.4"
  }
 },
 "nbformat": 4,
 "nbformat_minor": 2
}
